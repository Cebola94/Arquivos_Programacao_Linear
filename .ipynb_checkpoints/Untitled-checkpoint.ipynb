{
 "cells": [
  {
   "cell_type": "code",
   "execution_count": 15,
   "metadata": {
    "collapsed": true
   },
   "outputs": [
    {
     "name": "stderr",
     "output_type": "stream",
     "text": [
      "WARNING: Method definition interior_point_method(Any, Any, Any) in module Main at /home/adrean/Arquivos_TCC_Julia/pontos_interiores.jl:2 overwritten at /home/adrean/Arquivos_TCC_Julia/pontos_interiores.jl:2.\n",
      "WARNING: Method definition #interior_point_method(Array{Any, 1}, Main.#interior_point_method, Any, Any, Any) in module Main overwritten.\n"
     ]
    },
    {
     "ename": "LoadError",
     "evalue": "Base.LinAlg.SingularException(0)",
     "output_type": "error",
     "traceback": [
      "Base.LinAlg.SingularException(0)",
      "",
      " in umferror(::Int64) at ./sparse/umfpack.jl:22",
      " in solve!(::Array{Float64,1}, ::Base.SparseArrays.UMFPACK.UmfpackLU{Float64,Int64}, ::Array{Float64,1}, ::Int64) at ./sparse/umfpack.jl:259",
      " in \\(::Base.SparseArrays.UMFPACK.UmfpackLU{Float64,Int64}, ::Array{Float64,1}) at ./linalg/factorization.jl:39",
      " in #interior_point_method#15(::Float64, ::Int64, ::Int64, ::Bool, ::Function, ::SparseMatrixCSC{Float64,Int64}, ::SparseVector{Float64,Int64}, ::SparseVector{Float64,Int64}) at /home/adrean/Arquivos_TCC_Julia/pontos_interiores.jl:29",
      " in (::#kw##interior_point_method)(::Array{Any,1}, ::#interior_point_method, ::SparseMatrixCSC{Float64,Int64}, ::SparseVector{Float64,Int64}, ::SparseVector{Float64,Int64}) at ./<missing>:0"
     ]
    }
   ],
   "source": [
    "using JuMP\n",
    "using MathProgBase\n",
    "using Clp\n",
    "include(\"pontos_interiores.jl\")\n",
    "\n",
    "mod = Model(solver=ClpSolver())\n",
    "m_internal = MathProgBase.LinearQuadraticModel(ClpSolver())\n",
    "MathProgBase.loadproblem!(m_internal, \"MPS/25fv47.mps\")\n",
    "\n",
    "c = MathProgBase.getobj(m_internal)\n",
    "A = MathProgBase.getconstrmatrix(m_internal)\n",
    "m, n = size(A)\n",
    "xlb = MathProgBase.getvarLB(m_internal)\n",
    "xub = MathProgBase.getvarUB(m_internal)\n",
    "l = MathProgBase.getconstrLB(m_internal)\n",
    "u = MathProgBase.getconstrUB(m_internal)\n",
    "vtypes = MathProgBase.getvartype(m_internal)\n",
    "\n",
    "n = length(l)\n",
    "s = spzeros(n)\n",
    "A_new = copy(A)\n",
    "b = spzeros(n)\n",
    "for i = 1:n\n",
    "    if l[i] == -Inf\n",
    "        b[i] = u[i]\n",
    "        s = spzeros(n)\n",
    "        s[i] = 1\n",
    "        A = [A s]\n",
    "    elseif u[i] == Inf\n",
    "        b[i] = l[i]\n",
    "        s = spzeros(n)\n",
    "        s[i] = -1\n",
    "        A = [A s]\n",
    "    elseif l[i] == u[i]\n",
    "        b[i] = l[i]\n",
    "    else\n",
    "        error(\"Problema inválido\")\n",
    "    end\n",
    "end\n",
    "m,n_1 = size(A)\n",
    "n_2 = length(c)\n",
    "c = [c;spzeros(n_1 - n_2)]\n",
    "x, f, saida, el_time = interior_point_method(A,b,c, verbose = false)"
   ]
  },
  {
   "cell_type": "code",
   "execution_count": 23,
   "metadata": {
    "collapsed": false
   },
   "outputs": [
    {
     "name": "stdout",
     "output_type": "stream",
     "text": [
      "bnl2.mps\n",
      "cycle.mps\n",
      "degen3.mps\n",
      "ganges.mps\n",
      "pilot.mps\n",
      "pilot87.mps\n",
      "sctap2.mps\n",
      "sctap3.mps\n",
      "ship12s.mps\n",
      "sierra.mps\n",
      "stocfor2.mps\n"
     ]
    }
   ],
   "source": [
    "using JuMP, MathProgBase, Clp\n",
    "\n",
    "lista=[\"25fv47.mps\",\"80bau3b.mps\",\"adlittle.mps\",\"afiro.mps\",\"agg.mps\",\"agg2.mps\",\"agg3.mps\",\"bandm.mps\",\"beaconfd.mps\",\"blend.mps\",\"bnl1.mps\",\"bnl2.mps\",\"boeing1.mps\",\"boeing2.mps\",\"bore3d.mps\",\"brandy.mps\",\"capri.mps\",\"cycle.mps\",\"czprob.mps\",\"d2q06c.mps\",\"d6cube.mps\",\"degen2.mps\",\"degen3.mps\",\"dfl001.mps\"\n",
    ",\"e226.mps\",\"etamacro.mps\",\"fffff800.mps\",\"finnis.mps\",\"fit1d.mps\",\"fit1p.mps\",\"fit2d.mps\",\"fit2p.mps\",\"forplan.mps\",\"ganges.mps\",\"gfrd-pnc.mps\",\"greenbea.mps\",\"greenbeb.mps\",\"grow15.mps\",\"grow22.mps\",\"grow7.mps\",\"israel.mps\",\"kb2.mps\",\"lotfi.mps\",\"maros.mps\",\"maros-r7.mps\",\"modszk1.mps\",\"nesm.mps\",\"perold.mps\",\"pilot.mps\",\n",
    "\"pilot.ja.mps\",\"pilot.we.mps\",\"pilot4.mps\",\"pilot87.mps\",\"pilotnov.mps\",\"qap08.mps\",\"qap12.mps\",\"qap15.mps\",\"recipe.mps\",\"sc105.mps\",\"sc205.mps\",\"sc50a.mps\",\"sc50b.mps\",\"scagr25.mps\",\"scagr7.mps\",\"scfxm1.mps\",\"scfxm2.mps\",\"scfxm3.mps\",\"scorpion.mps\",\"scrs8.mps\",\"scsd1.mps\",\"scsd6.mps\",\"scsd8.mps\",\"sctap1.mps\",\"sctap2.mps\",\n",
    "\"sctap3.mps\",\"seba.mps\",\"share1b.mps\",\"share2b.mps\",\"shell.mps\",\"ship04l.mps\",\"ship04s.mps\",\"ship08l.mps\",\"ship08s.mps\",\"ship12l.mps\",\"ship12s.mps\",\"sierra.mps\",\"stair.mps\",\"standata.mps\",\"standgub.mps\",\"standmps.mps\",\"stocfor1.mps\",\"stocfor2.mps\",\"tuff.mps\",\"vtp_base.mps\",\"wood1p.mps\",\"woodw.mps\"]\n",
    "\n",
    "for problema in lista\n",
    "    mod = Model(solver=ClpSolver())\n",
    "    m_internal = MathProgBase.LinearQuadraticModel(ClpSolver())\n",
    "    MathProgBase.loadproblem!(m_internal, \"MPS/\"problema)\n",
    "    c = MathProgBase.getobj(m_internal)\n",
    "    A = MathProgBase.getconstrmatrix(m_internal)\n",
    "    m, n = size(A)\n",
    "    xlb = MathProgBase.getvarLB(m_internal)\n",
    "    xub = MathProgBase.getvarUB(m_internal)\n",
    "    l = MathProgBase.getconstrLB(m_internal)\n",
    "    u = MathProgBase.getconstrUB(m_internal)\n",
    "    I = length(find(xlb .!=0))\n",
    "    J = length(find(xub .==0))\n",
    "    if (m >= 1000 && m < 5000) && (n >= 1000 && n < 5000)\n",
    "        if I == 0 && I_1 == 0\n",
    "            println(problema)\n",
    "        end\n",
    "    end\n",
    "end\n"
   ]
  },
  {
   "cell_type": "code",
   "execution_count": 13,
   "metadata": {
    "collapsed": false
   },
   "outputs": [
    {
     "name": "stdout",
     "output_type": "stream",
     "text": [
      "    Problema      dot(c,x)  Saida  Tempo\n",
      "   afiro.mps  -4.64753e+02      0  0.0370\n"
     ]
    },
    {
     "name": "stderr",
     "output_type": "stream",
     "text": [
      "WARNING: Method definition interior_point_method(Any, Any, Any) in module Main at /home/adrean/Arquivos_TCC_Julia/pontos_interiores.jl:2 overwritten at /home/adrean/Arquivos_TCC_Julia/pontos_interiores.jl:2.\n",
      "WARNING: Method definition #interior_point_method(Array{Any, 1}, Main.#interior_point_method, Any, Any, Any) in module Main overwritten.\n",
      "WARNING: Method definition clp(Any, Any, Any) in module Main at /home/adrean/Arquivos_TCC_Julia/clp_solve.jl:3 overwritten at /home/adrean/Arquivos_TCC_Julia/clp_solve.jl:3.\n",
      "WARNING: Method definition SSolveFact(Any, Any, Any) in module Main at /home/adrean/Arquivos_TCC_Julia/Simplex_LUfact.jl:2 overwritten at /home/adrean/Arquivos_TCC_Julia/Simplex_LUfact.jl:2.\n",
      "WARNING: Method definition Simplex_Rev_Fact(Any, Any, Any, Any, Any, Any) in module Main at /home/adrean/Arquivos_TCC_Julia/Simplex_LUfact.jl:41 overwritten at /home/adrean/Arquivos_TCC_Julia/Simplex_LUfact.jl:41.\n"
     ]
    },
    {
     "name": "stdout",
     "output_type": "stream",
     "text": [
      "   blend.mps  -3.08121e+01      0  0.0354\n",
      "  israel.mps  -8.96645e+05      0  6.6415\n",
      "   sc105.mps  -5.22021e+01      0  0.1196\n",
      "   sc50a.mps  -6.45751e+01      0  0.0172\n",
      "   sc50b.mps  -7.00000e+01      0  0.0159\n",
      "  scagr7.mps   1.09842e+63      1  1.8895\n",
      " share2b.mps  -4.15732e+02      0  0.0589\n",
      "stocfor1.mps  -4.11320e+04      0  0.1163\n",
      "    Problema      dot(c,x)  Saida  Tempo\n"
     ]
    },
    {
     "ename": "LoadError",
     "evalue": "LoadError: MethodError: no method matching isfinite(::String)\u001b[0m\nClosest candidates are:\n  isfinite(\u001b[1m\u001b[31m::BigFloat\u001b[0m) at mpfr.jl:799\n  isfinite(\u001b[1m\u001b[31m::Float16\u001b[0m) at float16.jl:119\n  isfinite(\u001b[1m\u001b[31m::AbstractFloat\u001b[0m) at float.jl:358\n  ...\u001b[0m\nwhile loading /home/adrean/Arquivos_TCC_Julia/TCC.jl, in expression starting on line 27",
     "output_type": "error",
     "traceback": [
      "LoadError: MethodError: no method matching isfinite(::String)\u001b[0m\nClosest candidates are:\n  isfinite(\u001b[1m\u001b[31m::BigFloat\u001b[0m) at mpfr.jl:799\n  isfinite(\u001b[1m\u001b[31m::Float16\u001b[0m) at float16.jl:119\n  isfinite(\u001b[1m\u001b[31m::AbstractFloat\u001b[0m) at float.jl:358\n  ...\u001b[0m\nwhile loading /home/adrean/Arquivos_TCC_Julia/TCC.jl, in expression starting on line 27",
      "",
      " in (::##15#16)(::IOStream) at /home/adrean/Arquivos_TCC_Julia/TCC.jl:81",
      " in open(::##15#16, ::String, ::String) at ./iostream.jl:113",
      " in macro expansion; at /home/adrean/Arquivos_TCC_Julia/TCC.jl:29 [inlined]",
      " in anonymous at ./<missing>:?",
      " in include_from_node1(::String) at ./loading.jl:488"
     ]
    }
   ],
   "source": [
    "include(\"TCC.jl\")"
   ]
  },
  {
   "cell_type": "code",
   "execution_count": null,
   "metadata": {
    "collapsed": true
   },
   "outputs": [],
   "source": []
  }
 ],
 "metadata": {
  "anaconda-cloud": {},
  "kernelspec": {
   "display_name": "Julia 0.5.0",
   "language": "julia",
   "name": "julia-0.5"
  },
  "language_info": {
   "file_extension": ".jl",
   "mimetype": "application/julia",
   "name": "julia",
   "version": "0.5.1"
  }
 },
 "nbformat": 4,
 "nbformat_minor": 0
}
